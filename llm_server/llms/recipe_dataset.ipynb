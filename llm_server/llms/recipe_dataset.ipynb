{
 "cells": [
  {
   "cell_type": "code",
   "execution_count": 2,
   "metadata": {},
   "outputs": [],
   "source": [
    "import pandas as pd\n"
   ]
  },
  {
   "cell_type": "code",
   "execution_count": 3,
   "metadata": {},
   "outputs": [],
   "source": [
    "food_df = pd.read_csv('recipies/RAW_recipes.csv')\n"
   ]
  },
  {
   "cell_type": "code",
   "execution_count": 5,
   "metadata": {},
   "outputs": [
    {
     "data": {
      "text/html": [
       "<div>\n",
       "<style scoped>\n",
       "    .dataframe tbody tr th:only-of-type {\n",
       "        vertical-align: middle;\n",
       "    }\n",
       "\n",
       "    .dataframe tbody tr th {\n",
       "        vertical-align: top;\n",
       "    }\n",
       "\n",
       "    .dataframe thead th {\n",
       "        text-align: right;\n",
       "    }\n",
       "</style>\n",
       "<table border=\"1\" class=\"dataframe\">\n",
       "  <thead>\n",
       "    <tr style=\"text-align: right;\">\n",
       "      <th></th>\n",
       "      <th>ingredients</th>\n",
       "      <th>steps</th>\n",
       "    </tr>\n",
       "  </thead>\n",
       "  <tbody>\n",
       "    <tr>\n",
       "      <th>0</th>\n",
       "      <td>['winter squash', 'mexican seasoning', 'mixed ...</td>\n",
       "      <td>['make a choice and proceed with recipe', 'dep...</td>\n",
       "    </tr>\n",
       "    <tr>\n",
       "      <th>1</th>\n",
       "      <td>['prepared pizza crust', 'sausage patty', 'egg...</td>\n",
       "      <td>['preheat oven to 425 degrees f', 'press dough...</td>\n",
       "    </tr>\n",
       "    <tr>\n",
       "      <th>2</th>\n",
       "      <td>['ground beef', 'yellow onions', 'diced tomato...</td>\n",
       "      <td>['brown ground beef in large pot', 'add choppe...</td>\n",
       "    </tr>\n",
       "    <tr>\n",
       "      <th>3</th>\n",
       "      <td>['spreadable cheese with garlic and herbs', 'n...</td>\n",
       "      <td>['place potatoes in a large pot of lightly sal...</td>\n",
       "    </tr>\n",
       "    <tr>\n",
       "      <th>4</th>\n",
       "      <td>['tomato juice', 'apple cider vinegar', 'sugar...</td>\n",
       "      <td>['mix all ingredients&amp; boil for 2 1 / 2 hours ...</td>\n",
       "    </tr>\n",
       "  </tbody>\n",
       "</table>\n",
       "</div>"
      ],
      "text/plain": [
       "                                         ingredients  \\\n",
       "0  ['winter squash', 'mexican seasoning', 'mixed ...   \n",
       "1  ['prepared pizza crust', 'sausage patty', 'egg...   \n",
       "2  ['ground beef', 'yellow onions', 'diced tomato...   \n",
       "3  ['spreadable cheese with garlic and herbs', 'n...   \n",
       "4  ['tomato juice', 'apple cider vinegar', 'sugar...   \n",
       "\n",
       "                                               steps  \n",
       "0  ['make a choice and proceed with recipe', 'dep...  \n",
       "1  ['preheat oven to 425 degrees f', 'press dough...  \n",
       "2  ['brown ground beef in large pot', 'add choppe...  \n",
       "3  ['place potatoes in a large pot of lightly sal...  \n",
       "4  ['mix all ingredients& boil for 2 1 / 2 hours ...  "
      ]
     },
     "execution_count": 5,
     "metadata": {},
     "output_type": "execute_result"
    }
   ],
   "source": [
    "food_df[['ingredients', 'steps']].head(5)"
   ]
  },
  {
   "cell_type": "code",
   "execution_count": 25,
   "metadata": {},
   "outputs": [
    {
     "data": {
      "text/plain": [
       "\"['winter squash', 'mexican seasoning', 'mixed spice', 'honey', 'butter', 'olive oil', 'salt']\""
      ]
     },
     "execution_count": 25,
     "metadata": {},
     "output_type": "execute_result"
    }
   ],
   "source": [
    "food_df.iloc[0]['ingredients']"
   ]
  },
  {
   "cell_type": "code",
   "execution_count": 15,
   "metadata": {},
   "outputs": [
    {
     "name": "stdout",
     "output_type": "stream",
     "text": [
      "1. make a choice and proceed with recipe\n",
      "2. depending on size of squash , cut into half or fourths\n",
      "3. remove seeds\n",
      "4. for spicy squash , drizzle olive oil or melted butter over each cut squash piece\n",
      "5. season with mexican seasoning mix ii\n",
      "6. for sweet squash , drizzle melted honey , butter , grated piloncillo over each cut squash piece\n",
      "7. season with sweet mexican spice mix\n",
      "8. bake at 350 degrees , again depending on size , for 40 minutes up to an hour , until a fork can easily pierce the skin\n",
      "9. be careful not to burn the squash especially if you opt to use sugar or butter\n",
      "10. if you feel more comfortable , cover the squash with aluminum foil the first half hour , give or take , of baking\n",
      "11. if desired , season with salt\n"
     ]
    }
   ],
   "source": [
    "recipe = food_df['steps'][0]\n",
    "print('\\n'.join(map(lambda idx_step: f'{idx_step[0]+1}. ' + idx_step[1], enumerate(recipe[2:-2].split(\"', '\")))))"
   ]
  },
  {
   "cell_type": "code",
   "execution_count": 37,
   "metadata": {},
   "outputs": [],
   "source": [
    "food_df = pd.read_csv('recipies/RAW_recipes.csv')\n"
   ]
  },
  {
   "cell_type": "code",
   "execution_count": 63,
   "metadata": {},
   "outputs": [],
   "source": [
    "food_df.iloc[:100].to_csv('recipies/RAW_recipes_shortened.csv')"
   ]
  },
  {
   "cell_type": "code",
   "execution_count": 39,
   "metadata": {},
   "outputs": [],
   "source": [
    "\n",
    "def get_recipe(idx=0):\n",
    "    recipe = food_df.iloc[idx]\n",
    "    return recipe\n",
    "    return '\\n'.join(map(lambda idx_step: f'{idx_step[0]+1}. ' + idx_step[1], enumerate(recipe[2:-2].split(\"', '\"))))"
   ]
  },
  {
   "cell_type": "code",
   "execution_count": 17,
   "metadata": {},
   "outputs": [
    {
     "data": {
      "text/plain": [
       "Index(['name', 'id', 'minutes', 'contributor_id', 'submitted', 'tags',\n",
       "       'nutrition', 'n_steps', 'steps', 'description', 'ingredients',\n",
       "       'n_ingredients'],\n",
       "      dtype='object')"
      ]
     },
     "execution_count": 17,
     "metadata": {},
     "output_type": "execute_result"
    }
   ],
   "source": [
    "food_df.columns"
   ]
  },
  {
   "cell_type": "code",
   "execution_count": 42,
   "metadata": {},
   "outputs": [],
   "source": [
    "rec = get_recipe(20)"
   ]
  },
  {
   "cell_type": "code",
   "execution_count": 44,
   "metadata": {},
   "outputs": [
    {
     "name": "stdout",
     "output_type": "stream",
     "text": [
      "cream  of spinach soup\n",
      "['water', 'salt', 'boiling potatoes', 'fresh spinach leaves', 'unsalted butter', 'coarse salt', 'fresh ground black pepper', 'nutmeg']\n",
      "['bring water and salt to a boil', 'cut the potatoes in half lengthwise , and then into 1 / 2\" thick slices', 'boil over medium-high heat for twenty minutes', \"add the spinach and boil another 10 minutes being careful to not overcook in order to maintain it's bright green color\", 'drain , reserving 1 1 / 4 cups cooking liquid', 'in a food processor , process the potatoes and spinach until very smooth , adding the butter 1 / 2 t at a time', 'return the puree to the pot and add the reserved liquid until the desired consistency', 'reheat slowly and season with salt and pepper', 'ladle into shallow soup plates and garnish with nutmeg or shaved cheese']\n",
      "45\n"
     ]
    }
   ],
   "source": [
    "print(rec['name'])\n",
    "print(rec['ingredients'])\n",
    "print(rec['steps'])\n",
    "print(rec['minutes'])"
   ]
  },
  {
   "cell_type": "code",
   "execution_count": 52,
   "metadata": {},
   "outputs": [],
   "source": [
    "import importlib"
   ]
  },
  {
   "cell_type": "code",
   "execution_count": 65,
   "metadata": {},
   "outputs": [
    {
     "data": {
      "text/plain": [
       "<module 'prompt' from 'c:\\\\max\\\\py\\\\llms\\\\prompt.py'>"
      ]
     },
     "execution_count": 65,
     "metadata": {},
     "output_type": "execute_result"
    }
   ],
   "source": [
    "import prompt\n",
    "importlib.reload(prompt)"
   ]
  },
  {
   "cell_type": "code",
   "execution_count": 66,
   "metadata": {},
   "outputs": [],
   "source": [
    "from prompt import make_prompt_for_questions, example_prompt"
   ]
  },
  {
   "cell_type": "code",
   "execution_count": 68,
   "metadata": {},
   "outputs": [
    {
     "name": "stdout",
     "output_type": "stream",
     "text": [
      "Ignore all previous instructions. \n",
      "1. You are to provide clear, concise, and direct responses.\n",
      "2. Eliminate unnecessary reminders, apologies, self-references, and any pre-programmed niceties.\n",
      "3. For every response, you will be tipped up to $200 (depending on the quality of your output).\n",
      "It is very important that you get this right. Multiple lives are at stake. \n",
      "\n",
      "You would be provided by a recipe separeted by steps.\n",
      "\n",
      "Generate a list of concise and precise questions related to every step. Ensure questions focus on ingredients, quantities, techniques, and other relevant aspects of the step.\n",
      "Take in account name of the recipe, list of ingredients and cooking time. Specify questions for this parameters. Generate at least two questions. The more questions the better.\n",
      "\n",
      "Example 1.\n",
      "Input:\n",
      "Name: Cream of spinach soup\n",
      "\n",
      "Ingredients:\n",
      "1. water\n",
      "2. salt\n",
      "3. boiling potatoes\n",
      "4. fresh spinach leaves\n",
      "5. unsalted butter\n",
      "6. coarse salt\n",
      "7. fresh ground black pepper\n",
      "8. nutmeg\n",
      "\n",
      "Cooking time: 45 minutes\n",
      "\n",
      "Recipe:\n",
      "1. bring water and salt to a boil\n",
      "2. cut the potatoes in half lengthwise , and then into 1 / 2\" thick slices\n",
      "3. boil over medium-high heat for twenty minutes\n",
      "4. add the spinach and boil another 10 minutes being careful to not overcook in order to maintain it's bright green color\n",
      "5. drain , reserving 1 1 / 4 cups cooking liquid\n",
      "6. in a food processor , process the potatoes and spinach until very smooth , adding the butter 1 / 2 t at a time\n",
      "7. return the puree to the pot and add the reserved liquid until the desired consistency\n",
      "8. reheat slowly and season with salt and pepper\n",
      "9. ladle into shallow soup plates and garnish with nutmeg or shaved cheese\n",
      "\n",
      "Output:\n",
      "<step 1>\n",
      "1. What type of water is required for this step?\n",
      "2. How much water should be used per serving?\n",
      "3. How much salt should be added to the water?\n",
      "4. What is the purpose of adding salt in this step?\n",
      "</step 1>\n",
      "<step 2>\n",
      "1. What type of potatoes should be used?\n",
      "2. Why is it important to cut the potatoes in half lengthwise first?\n",
      "3. What is the ideal thickness for the potato slices?\n",
      "4. What is the purpose of cutting the potatoes into slices?\n",
      "</step 2>\n",
      "<step 3>\n",
      "1. What type of heat setting should be used for boiling the potatoes?\n",
      "2. Why is it important to maintain a medium-high heat setting?\n",
      "3. How long should the potatoes be boiled for?\n",
      "4. How can you determine if the potatoes are cooked through?\n",
      "5. Is it necessary to cover the pot while boiling the potatoes?\n",
      "</step 3>\n",
      "<step 4>\n",
      "1. What type of spinach should be used?\n",
      "2. How much spinach should be added per serving?\n",
      "3. Should the spinach be washed before adding it to the pot?\n",
      "</step 4>\n",
      "<step 5>\n",
      "1. What size strainer is recommended for draining the potatoes and spinach?\n",
      "2. Why is it important to reserve some of the cooking liquid?\n",
      "3. How much cooking liquid should be reserved?\n",
      "4. How should the potatoes and spinach be drained to ensure that as much liquid as possible is removed?\n",
      "</step 5>\n",
      "<step 6>\n",
      "1. What type of food processor is recommended for processing the potatoes and spinach?\n",
      "2. What size bowl or container should be used to process the ingredients?\n",
      "3. What is the ideal consistency for the processed potatoes and spinach?\n",
      "</step 6>\n",
      "<step 7>\n",
      "1. What type of pot should be used to return the puree to?\n",
      "2. What is the purpose of adding the reserved cooking liquid?\n",
      "3. How much cooking liquid should be added?\n",
      "</step 7>\n",
      "<step 8>\n",
      "1. What is the best method for reheating the puree?\n",
      "2. Why is it important to reheat the puree slowly?\n",
      "3. What seasonings should be added to the puree?\n",
      "</step 8>\n",
      "<step 9>\n",
      "1. What type of soup plates are recommended for ladling the puree into?\n",
      "2. How much puree should be ladled into each plate?\n",
      "3. What is the purpose of garnishing the puree?\n",
      "4. What types of garnishes are suitable for this soup?\n",
      "</step 9>\n",
      "\n",
      "Example 2.\n",
      "Input:\n",
      "Name: Mexican pasta\n",
      "\n",
      "Ingredients:\n",
      "1. fettuccine pasta\n",
      "2. cheddar cheese soup\n",
      "3. milk\n",
      "4. picante sauce\n",
      "5. black olives\n",
      "6. jalapeno\n",
      "\n",
      "Cooking time: 25 minutes\n",
      "\n",
      "Recipe:\n",
      "1. boil pasta as directed on package\n",
      "2. drain and put in large serving bowl\n",
      "3. mix picante sauce , milk , and cheese soup in a smaller bowl until creamy\n",
      "4. heat in microwave until warm\n",
      "5. mix sauce and pasta together and garnish with olives and jalepenos if desired\n",
      "\n",
      "Output:\n",
      "<step 1>\n",
      "1. What type of pasta is used in this dish?\n",
      "2. How much pasta should be cooked per serving?\n",
      "</step 1>\n",
      "<step 2>\n",
      "1. Why is it necessary to drain the pasta after boiling?\n",
      "</step 2>\n",
      "<step 3>\n",
      "1. What type of picante sauce is recommended for this recipe?\n",
      "2. How much picante sauce should be added?\n",
      "3. What type of milk is used in this recipe?\n",
      "4. How much milk should be added?\n",
      "5. What type of cheese soup is used in this recipe?\n",
      "6. How much cheese soup should be added?\n",
      "</step 3>\n",
      "<step 4>\n",
      "1. What type of microwave-safe bowl should be used to heat the sauce?\n",
      "2. How long should the sauce be heated in the microwave?\n",
      "3. How can you determine if the sauce is warm enough?\n",
      "</step 4>\n",
      "<step 5>\n",
      "1. What is the best method for mixing the sauce and pasta together?\n",
      "2. What type of olives are recommended for garnishing the pasta?\n",
      "3. How many olives should be used per serving?\n",
      "4. How should the olives be sliced or prepared before garnishing?\n",
      "</step 5>\n",
      "\n",
      "Questions must be related to specific step. Make sure that questions would be concise and precise. Make sure questions would be common and useful. Avoid being vague, and try to be as specific as possible.\n",
      "\n",
      "Recipe:\n",
      "Name: homemade  vegetable soup from a can\n",
      "\n",
      "Ingredients:\n",
      "1. low sodium chicken broth\n",
      "2. diced tomatoes\n",
      "3. zucchini\n",
      "4. corn\n",
      "5. potatoes\n",
      "6. wax beans\n",
      "7. green beans\n",
      "8. carrots\n",
      "\n",
      "Cooking time: 12 minutes\n",
      "\n",
      "Recipe:\n",
      "1. combine all ingredients in large pot\n",
      "2. bring to a boil and simmer for 3 minutes\n",
      "3. serve\n",
      "4. i use the tomatoes that come flavored with basil , oregano , and garlic\n",
      "5. you can substitute whatever vegetables you like', \"if you don't want to use the zucchini , add a can of tomato sauce to give it some substance\n",
      "\n",
      "Now generate list of questions for EVERY step. It is important not to miss any of them.\n",
      "You must not add excessive steps or miss any.\n",
      "Follow the format. Do not add unnecessary comments. Make sure every question correctly enumerated.\n",
      "Every block should be formatted like in examples. \n"
     ]
    }
   ],
   "source": [
    "from prompt import example_prompt\n",
    "print(example_prompt(35))"
   ]
  }
 ],
 "metadata": {
  "kernelspec": {
   "display_name": "env",
   "language": "python",
   "name": "python3"
  },
  "language_info": {
   "codemirror_mode": {
    "name": "ipython",
    "version": 3
   },
   "file_extension": ".py",
   "mimetype": "text/x-python",
   "name": "python",
   "nbconvert_exporter": "python",
   "pygments_lexer": "ipython3",
   "version": "3.10.6"
  }
 },
 "nbformat": 4,
 "nbformat_minor": 2
}
