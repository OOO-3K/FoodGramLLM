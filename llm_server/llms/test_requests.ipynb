{
 "cells": [
  {
   "cell_type": "code",
   "execution_count": 28,
   "metadata": {},
   "outputs": [],
   "source": [
    "import requests\n",
    "from dataset import get_recipe\n",
    "from prompt import example_prompt\n",
    "import pandas as pd\n",
    "import json"
   ]
  },
  {
   "cell_type": "code",
   "execution_count": 2,
   "metadata": {},
   "outputs": [],
   "source": [
    "url = 'http://127.0.0.1:8000/gemini/questions/en/'\n",
    "url_desc = 'http://127.0.0.1:8000/gemini/description/en/'\n",
    "\n",
    "url_quest = 'http://127.0.0.1:8000/gemini/answers/en/'"
   ]
  },
  {
   "cell_type": "code",
   "execution_count": 3,
   "metadata": {},
   "outputs": [],
   "source": [
    "recipe = get_recipe(1)"
   ]
  },
  {
   "cell_type": "code",
   "execution_count": 4,
   "metadata": {},
   "outputs": [],
   "source": [
    "recipe_name = recipe['name']\n",
    "ingredients = recipe['ingredients']\n",
    "steps = recipe['steps']\n",
    "time = recipe['minutes']"
   ]
  },
  {
   "cell_type": "code",
   "execution_count": 35,
   "metadata": {},
   "outputs": [
    {
     "data": {
      "text/plain": [
       "\"['preheat oven to 425 degrees f', 'press dough into the bottom and sides of a 12 inch pizza pan', 'bake for 5 minutes until set but not browned', 'cut sausage into small pieces', 'whisk eggs and milk in a bowl until frothy', 'spoon sausage over baked crust and sprinkle with cheese', 'pour egg mixture slowly over sausage and cheese', 's& p to taste', 'bake 15-20 minutes or until eggs are set and crust is brown']\""
      ]
     },
     "execution_count": 35,
     "metadata": {},
     "output_type": "execute_result"
    }
   ],
   "source": [
    "steps"
   ]
  },
  {
   "cell_type": "code",
   "execution_count": 6,
   "metadata": {},
   "outputs": [],
   "source": [
    "data = {\n",
    "    'recipe_name' : recipe_name,\n",
    "    'ingredients' : ingredients,\n",
    "    'steps' : steps,\n",
    "    'time' : time\n",
    "}"
   ]
  },
  {
   "cell_type": "code",
   "execution_count": 51,
   "metadata": {},
   "outputs": [],
   "source": [
    "response = requests.post(url=url, data=data)"
   ]
  },
  {
   "cell_type": "code",
   "execution_count": 8,
   "metadata": {},
   "outputs": [
    {
     "data": {
      "text/plain": [
       "200"
      ]
     },
     "execution_count": 8,
     "metadata": {},
     "output_type": "execute_result"
    }
   ],
   "source": [
    "response.status_code"
   ]
  },
  {
   "cell_type": "code",
   "execution_count": 46,
   "metadata": {},
   "outputs": [
    {
     "data": {
      "text/plain": [
       "{'response': '<step 1>\\n1. Why is the oven preheated to 425 degrees F specifically?\\n2. What type of pizza crust is recommended for this recipe?\\n</step 1>\\n<step 2>\\n1. What is the purpose of pressing the dough into the bottom and sides of the pizza pan?\\n2. What is the best method for pressing the dough into the pan?\\n</step 2>\\n<step 3>\\n1. Why is the crust baked for only 5 minutes?\\n2. How can you determine if the crust is set but not browned?\\n</step 3>\\n<step 4>\\n1. What type of sausage is recommended for this recipe?\\n2. How small should the sausage pieces be cut?\\n</step 4>\\n<step 5>\\n1. What type of milk is recommended for this recipe?\\n2. How much milk should be used per serving?\\n3. What is the purpose of whisking the eggs and milk until frothy?\\n</step 5>\\n<step 6>\\n1. What is the best method for spooning the sausage over the baked crust?\\n2. What type of cheese is recommended for this recipe?\\n3. How much cheese should be used per serving?\\n</step 6>\\n<step 7>\\n1. What is the best method for pouring the egg mixture over the sausage and cheese?\\n2. Why is it important to pour the egg mixture slowly?\\n</step 7>\\n<step 8>\\n1. What type of salt and pepper is recommended for this recipe?\\n2. How much salt and pepper should be used per serving?\\n</step 8>\\n<step 9>\\n1. What is the best method for baking the pizza?\\n2. How long should the pizza be baked for?\\n3. How can you determine if the eggs are set and the crust is brown?',\n",
       " 'questions': [['1. Why is the oven preheated to 425 degrees F specifically?',\n",
       "   '2. What type of pizza crust is recommended for this recipe?'],\n",
       "  ['1. What is the purpose of pressing the dough into the bottom and sides of the pizza pan?',\n",
       "   '2. What is the best method for pressing the dough into the pan?'],\n",
       "  ['1. Why is the crust baked for only 5 minutes?',\n",
       "   '2. How can you determine if the crust is set but not browned?'],\n",
       "  ['1. What type of sausage is recommended for this recipe?',\n",
       "   '2. How small should the sausage pieces be cut?'],\n",
       "  ['1. What type of milk is recommended for this recipe?',\n",
       "   '2. How much milk should be used per serving?',\n",
       "   '3. What is the purpose of whisking the eggs and milk until frothy?'],\n",
       "  ['1. What is the best method for spooning the sausage over the baked crust?',\n",
       "   '2. What type of cheese is recommended for this recipe?',\n",
       "   '3. How much cheese should be used per serving?'],\n",
       "  ['1. What is the best method for pouring the egg mixture over the sausage and cheese?',\n",
       "   '2. Why is it important to pour the egg mixture slowly?'],\n",
       "  ['1. What type of salt and pepper is recommended for this recipe?',\n",
       "   '2. How much salt and pepper should be used per serving?']]}"
      ]
     },
     "execution_count": 46,
     "metadata": {},
     "output_type": "execute_result"
    }
   ],
   "source": [
    "response.json()"
   ]
  },
  {
   "cell_type": "code",
   "execution_count": 10,
   "metadata": {},
   "outputs": [],
   "source": [
    "desc = requests.post(url=url_desc, data=data)"
   ]
  },
  {
   "cell_type": "code",
   "execution_count": 28,
   "metadata": {},
   "outputs": [
    {
     "data": {
      "text/plain": [
       "200"
      ]
     },
     "execution_count": 28,
     "metadata": {},
     "output_type": "execute_result"
    }
   ],
   "source": [
    "desc.status_code"
   ]
  },
  {
   "cell_type": "code",
   "execution_count": 11,
   "metadata": {},
   "outputs": [
    {
     "data": {
      "text/plain": [
       "{'description': 'Indulge in the unexpected with our Breakfast Pizza, a morning delight that combines the savory flavors of sausage, melted cheese, and fluffy eggs atop a crispy pizza crust. This unique take on breakfast is sure to elevate your morning routine, offering a satisfying and delectable start to your day.'}"
      ]
     },
     "execution_count": 11,
     "metadata": {},
     "output_type": "execute_result"
    }
   ],
   "source": [
    "desc.json()"
   ]
  },
  {
   "cell_type": "code",
   "execution_count": 12,
   "metadata": {},
   "outputs": [],
   "source": [
    "data_quest = {\n",
    "    'recipe_name' : recipe_name,\n",
    "    'ingredients' : ingredients,\n",
    "    'steps' : steps,\n",
    "    'time' : time,\n",
    "    \n",
    "    'step_num' : 2,\n",
    "    'question' : 'How much dough is needed per serving?'\n",
    "}"
   ]
  },
  {
   "cell_type": "code",
   "execution_count": 13,
   "metadata": {},
   "outputs": [
    {
     "data": {
      "text/plain": [
       "'1. preheat oven to 425 degrees f\\n2. press dough into the bottom and sides of a 12 inch pizza pan\\n3. bake for 5 minutes until set but not browned\\n4. cut sausage into small pieces\\n5. whisk eggs and milk in a bowl until frothy\\n6. spoon sausage over baked crust and sprinkle with cheese\\n7. pour egg mixture slowly over sausage and cheese\\n8. s& p to taste\\n9. bake 15-20 minutes or until eggs are set and crust is brown'"
      ]
     },
     "execution_count": 13,
     "metadata": {},
     "output_type": "execute_result"
    }
   ],
   "source": [
    "from prompt import list_to_str\n",
    "list_to_str(steps)"
   ]
  },
  {
   "cell_type": "code",
   "execution_count": 60,
   "metadata": {},
   "outputs": [
    {
     "data": {
      "text/plain": [
       "\"['preheat oven to 425 degrees f', 'press dough into the bottom and sides of a 12 inch pizza pan', 'bake for 5 minutes until set but not browned', 'cut sausage into small pieces', 'whisk eggs and milk in a bowl until frothy', 'spoon sausage over baked crust and sprinkle with cheese', 'pour egg mixture slowly over sausage and cheese', 's& p to taste', 'bake 15-20 minutes or until eggs are set and crust is brown']\""
      ]
     },
     "execution_count": 60,
     "metadata": {},
     "output_type": "execute_result"
    }
   ],
   "source": [
    "steps"
   ]
  },
  {
   "cell_type": "code",
   "execution_count": 37,
   "metadata": {},
   "outputs": [],
   "source": [
    "ans = requests.post(url=url_quest, data=data_quest)"
   ]
  },
  {
   "cell_type": "code",
   "execution_count": 63,
   "metadata": {},
   "outputs": [
    {
     "data": {
      "text/plain": [
       "200"
      ]
     },
     "execution_count": 63,
     "metadata": {},
     "output_type": "execute_result"
    }
   ],
   "source": [
    "ans.status_code"
   ]
  },
  {
   "cell_type": "code",
   "execution_count": 66,
   "metadata": {},
   "outputs": [
    {
     "data": {
      "text/plain": [
       "'OK'"
      ]
     },
     "execution_count": 66,
     "metadata": {},
     "output_type": "execute_result"
    }
   ],
   "source": [
    "ans.reason"
   ]
  },
  {
   "cell_type": "code",
   "execution_count": 38,
   "metadata": {},
   "outputs": [
    {
     "data": {
      "text/plain": [
       "{'user': {'role': 'user',\n",
       "  'parts': 'Question for step 2: How much dough is needed per serving?'},\n",
       " 'model': {'role': 'model',\n",
       "  'parts': 'This recipe uses one prepared pizza crust for a 12-inch pizza pan, which generally translates to about 6-8 servings depending on how you slice it. \\n'},\n",
       " 'answer': 'This recipe uses one prepared pizza crust for a 12-inch pizza pan, which generally translates to about 6-8 servings depending on how you slice it. \\n'}"
      ]
     },
     "execution_count": 38,
     "metadata": {},
     "output_type": "execute_result"
    }
   ],
   "source": [
    "ans.json()"
   ]
  },
  {
   "cell_type": "code",
   "execution_count": 39,
   "metadata": {},
   "outputs": [],
   "source": [
    "hist = [ans.json()['user'], ans.json()['model']]"
   ]
  },
  {
   "cell_type": "code",
   "execution_count": 40,
   "metadata": {},
   "outputs": [],
   "source": [
    "data_quest2 = {\n",
    "    'recipe_name' : recipe_name,\n",
    "    'ingredients' : ingredients,\n",
    "    'steps' : steps,\n",
    "    'time' : time,\n",
    "    \n",
    "    'step_num' : 3,\n",
    "    'question' : 'How long should the dough be baked for?',\n",
    "    'history' : json.dumps(hist),\n",
    "}"
   ]
  },
  {
   "cell_type": "code",
   "execution_count": 41,
   "metadata": {},
   "outputs": [
    {
     "name": "stdout",
     "output_type": "stream",
     "text": [
      "{'history': '[{\"role\": \"user\", \"parts\": \"Question for step 2: How much dough '\n",
      "            'is needed per serving?\"}, {\"role\": \"model\", \"parts\": \"This recipe '\n",
      "            'uses one prepared pizza crust for a 12-inch pizza pan, which '\n",
      "            'generally translates to about 6-8 servings depending on how you '\n",
      "            'slice it. \\\\n\"}]',\n",
      " 'ingredients': \"['prepared pizza crust', 'sausage patty', 'eggs', 'milk', \"\n",
      "                \"'salt and pepper', 'cheese']\",\n",
      " 'question': 'How long should the dough be baked for?',\n",
      " 'recipe_name': 'a bit different  breakfast pizza',\n",
      " 'step_num': 3,\n",
      " 'steps': \"['preheat oven to 425 degrees f', 'press dough into the bottom and \"\n",
      "          \"sides of a 12 inch pizza pan', 'bake for 5 minutes until set but \"\n",
      "          \"not browned', 'cut sausage into small pieces', 'whisk eggs and milk \"\n",
      "          \"in a bowl until frothy', 'spoon sausage over baked crust and \"\n",
      "          \"sprinkle with cheese', 'pour egg mixture slowly over sausage and \"\n",
      "          \"cheese', 's& p to taste', 'bake 15-20 minutes or until eggs are set \"\n",
      "          \"and crust is brown']\",\n",
      " 'time': 30}\n"
     ]
    }
   ],
   "source": [
    "from pprint import pprint\n",
    "pprint(data_quest2)"
   ]
  },
  {
   "cell_type": "code",
   "execution_count": 42,
   "metadata": {},
   "outputs": [],
   "source": [
    "ans2 = requests.post(url=url_quest, data=data_quest2)"
   ]
  },
  {
   "cell_type": "code",
   "execution_count": 76,
   "metadata": {},
   "outputs": [
    {
     "data": {
      "text/plain": [
       "401"
      ]
     },
     "execution_count": 76,
     "metadata": {},
     "output_type": "execute_result"
    }
   ],
   "source": [
    "ans2.status_code"
   ]
  },
  {
   "cell_type": "code",
   "execution_count": 43,
   "metadata": {},
   "outputs": [
    {
     "data": {
      "text/plain": [
       "'{\"user\": {\"role\": \"user\", \"parts\": \"Question for step 3: How long should the dough be baked for?\"}, \"model\": {\"role\": \"model\", \"parts\": \"Step 3 says to bake the crust for 5 minutes, just until it\\'s set but not browned. This is called \\\\\"pre-baking\\\\\" or \\\\\"blind baking\\\\\" the crust, and it helps prevent a soggy bottom.  \\\\n\"}, \"answer\": \"Step 3 says to bake the crust for 5 minutes, just until it\\'s set but not browned. This is called \\\\\"pre-baking\\\\\" or \\\\\"blind baking\\\\\" the crust, and it helps prevent a soggy bottom.  \\\\n\"}'"
      ]
     },
     "execution_count": 43,
     "metadata": {},
     "output_type": "execute_result"
    }
   ],
   "source": [
    "ans2.text"
   ]
  },
  {
   "cell_type": "code",
   "execution_count": 44,
   "metadata": {},
   "outputs": [
    {
     "data": {
      "text/plain": [
       "{'user': {'role': 'user',\n",
       "  'parts': 'Question for step 3: How long should the dough be baked for?'},\n",
       " 'model': {'role': 'model',\n",
       "  'parts': 'Step 3 says to bake the crust for 5 minutes, just until it\\'s set but not browned. This is called \"pre-baking\" or \"blind baking\" the crust, and it helps prevent a soggy bottom.  \\n'},\n",
       " 'answer': 'Step 3 says to bake the crust for 5 minutes, just until it\\'s set but not browned. This is called \"pre-baking\" or \"blind baking\" the crust, and it helps prevent a soggy bottom.  \\n'}"
      ]
     },
     "execution_count": 44,
     "metadata": {},
     "output_type": "execute_result"
    }
   ],
   "source": [
    "ans2.json()"
   ]
  }
 ],
 "metadata": {
  "kernelspec": {
   "display_name": "env",
   "language": "python",
   "name": "python3"
  },
  "language_info": {
   "codemirror_mode": {
    "name": "ipython",
    "version": 3
   },
   "file_extension": ".py",
   "mimetype": "text/x-python",
   "name": "python",
   "nbconvert_exporter": "python",
   "pygments_lexer": "ipython3",
   "version": "3.10.6"
  }
 },
 "nbformat": 4,
 "nbformat_minor": 2
}
