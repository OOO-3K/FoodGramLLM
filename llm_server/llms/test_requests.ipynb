{
 "cells": [
  {
   "cell_type": "code",
   "execution_count": 2,
   "metadata": {},
   "outputs": [],
   "source": [
    "import requests\n",
    "from dataset import get_recipe\n",
    "from prompt import example_prompt\n",
    "import pandas as pd"
   ]
  },
  {
   "cell_type": "code",
   "execution_count": 7,
   "metadata": {},
   "outputs": [],
   "source": [
    "url = 'http://127.0.0.1:8000/gemini/en/'"
   ]
  },
  {
   "cell_type": "code",
   "execution_count": 3,
   "metadata": {},
   "outputs": [],
   "source": [
    "recipe = get_recipe(1)"
   ]
  },
  {
   "cell_type": "code",
   "execution_count": 4,
   "metadata": {},
   "outputs": [],
   "source": [
    "recipe_name = recipe['name']\n",
    "ingredients = recipe['ingredients']\n",
    "steps = recipe['steps']\n",
    "time = recipe['minutes']"
   ]
  },
  {
   "cell_type": "code",
   "execution_count": 5,
   "metadata": {},
   "outputs": [],
   "source": [
    "data = {\n",
    "    'recipe_name' : recipe_name,\n",
    "    'ingredients' : ingredients,\n",
    "    'steps' : steps,\n",
    "    'time' : time\n",
    "}"
   ]
  },
  {
   "cell_type": "code",
   "execution_count": 18,
   "metadata": {},
   "outputs": [],
   "source": [
    "response = requests.post(url=url, data=data)"
   ]
  },
  {
   "cell_type": "code",
   "execution_count": 19,
   "metadata": {},
   "outputs": [
    {
     "data": {
      "text/plain": [
       "{'response': '<step 1>\\n1. What is the purpose of preheating the oven?\\n2. What type of dough is used in this step?\\n3. How much dough is required?\\n4. What should the thickness of the dough be?\\n5. What is the best method for transferring the dough to the baking sheet?\\n</step 1>\\n<step 2>\\n1. What are the ingredients for the parmesan sauce?\\n2. How much of each ingredient is required for the parmesan sauce?\\n3. What is the best method for preparing the parmesan sauce?\\n4. How can you tell when the parmesan sauce is ready?\\n5. What is the purpose of adding the parmesan sauce to the dough?\\n</step 2>\\n<step 3>\\n1. What type of cheese is used in this step?\\n2. How much cheese is required?\\n3. What is the best method for spreading the cheese evenly over the dough?\\n4. How long should the dough be baked?\\n5. What temperature should the oven be set to?\\n</step 3>\\n<step 4>\\n1. What type of eggs are used in this step?\\n2. How many eggs are required?\\n3. What is the best method for whisking the eggs?\\n4. What is the purpose of adding the eggs to the dough?\\n5. How can you tell when the eggs are cooked through?\\n</step 4>\\n<step 5>\\n1. What type of sausages are used in this step?\\n2. How many sausages are required?\\n3. What is the best method for slicing the sausages?\\n4. What is the purpose of browning the sausages?\\n5. How can you tell when the sausages are cooked through?\\n</step 5>\\n<step 6>\\n1. What is the best method for adding the sausages to the dough?\\n2. How evenly should the sausages be distributed?\\n3. What is the purpose of adding the sausages to the dough?\\n4. How long should the dough be cooked?\\n5. What temperature should the oven be set to?\\n</step 6>\\n<step 7>\\n1. What is the purpose of adding the parsley to the dough?\\n2. How much parsley is required?\\n3. What is the best method for chopping the parsley?\\n4. What is the best method for mixing the parsley into the dough?\\n5. How long should the dough be cooked?\\n</step 7>\\n<step 8>\\n1. What is the purpose of slicing the pizza?\\n2. How thick should the slices be?\\n3. What is the best method for slicing the pizza?\\n4. How can you tell when the pizza is ready to serve?\\n5. How should the pizza be stored?\\n</step 8>',\n",
       " 'questions': [['1. What is the purpose of preheating the oven?',\n",
       "   '2. What type of dough is used in this step?',\n",
       "   '3. How much dough is required?',\n",
       "   '4. What should the thickness of the dough be?',\n",
       "   '5. What is the best method for transferring the dough to the baking sheet?'],\n",
       "  ['1. What are the ingredients for the parmesan sauce?',\n",
       "   '2. How much of each ingredient is required for the parmesan sauce?',\n",
       "   '3. What is the best method for preparing the parmesan sauce?',\n",
       "   '4. How can you tell when the parmesan sauce is ready?',\n",
       "   '5. What is the purpose of adding the parmesan sauce to the dough?'],\n",
       "  ['1. What type of cheese is used in this step?',\n",
       "   '2. How much cheese is required?',\n",
       "   '3. What is the best method for spreading the cheese evenly over the dough?',\n",
       "   '4. How long should the dough be baked?',\n",
       "   '5. What temperature should the oven be set to?'],\n",
       "  ['1. What type of eggs are used in this step?',\n",
       "   '2. How many eggs are required?',\n",
       "   '3. What is the best method for whisking the eggs?',\n",
       "   '4. What is the purpose of adding the eggs to the dough?',\n",
       "   '5. How can you tell when the eggs are cooked through?'],\n",
       "  ['1. What type of sausages are used in this step?',\n",
       "   '2. How many sausages are required?',\n",
       "   '3. What is the best method for slicing the sausages?',\n",
       "   '4. What is the purpose of browning the sausages?',\n",
       "   '5. How can you tell when the sausages are cooked through?'],\n",
       "  ['1. What is the best method for adding the sausages to the dough?',\n",
       "   '2. How evenly should the sausages be distributed?',\n",
       "   '3. What is the purpose of adding the sausages to the dough?',\n",
       "   '4. How long should the dough be cooked?',\n",
       "   '5. What temperature should the oven be set to?'],\n",
       "  ['1. What is the purpose of adding the parsley to the dough?',\n",
       "   '2. How much parsley is required?',\n",
       "   '3. What is the best method for chopping the parsley?',\n",
       "   '4. What is the best method for mixing the parsley into the dough?',\n",
       "   '5. How long should the dough be cooked?'],\n",
       "  ['1. What is the purpose of slicing the pizza?',\n",
       "   '2. How thick should the slices be?',\n",
       "   '3. What is the best method for slicing the pizza?',\n",
       "   '4. How can you tell when the pizza is ready to serve?',\n",
       "   '5. How should the pizza be stored?']]}"
      ]
     },
     "execution_count": 19,
     "metadata": {},
     "output_type": "execute_result"
    }
   ],
   "source": [
    "response.json()"
   ]
  }
 ],
 "metadata": {
  "kernelspec": {
   "display_name": "env",
   "language": "python",
   "name": "python3"
  },
  "language_info": {
   "codemirror_mode": {
    "name": "ipython",
    "version": 3
   },
   "file_extension": ".py",
   "mimetype": "text/x-python",
   "name": "python",
   "nbconvert_exporter": "python",
   "pygments_lexer": "ipython3",
   "version": "3.10.6"
  }
 },
 "nbformat": 4,
 "nbformat_minor": 2
}
