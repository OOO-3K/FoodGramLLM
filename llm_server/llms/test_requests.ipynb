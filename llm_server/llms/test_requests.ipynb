{
 "cells": [
  {
   "cell_type": "code",
   "execution_count": 1,
   "metadata": {},
   "outputs": [],
   "source": [
    "import requests\n",
    "from dataset import get_recipe\n",
    "from prompt import example_prompt\n",
    "import pandas as pd"
   ]
  },
  {
   "cell_type": "code",
   "execution_count": 24,
   "metadata": {},
   "outputs": [],
   "source": [
    "url = 'http://127.0.0.1:8000/gemini/questions/en/'\n",
    "url_desc = 'http://127.0.0.1:8000/gemini/description/en/'"
   ]
  },
  {
   "cell_type": "code",
   "execution_count": 15,
   "metadata": {},
   "outputs": [],
   "source": [
    "recipe = get_recipe(1)"
   ]
  },
  {
   "cell_type": "code",
   "execution_count": 16,
   "metadata": {},
   "outputs": [],
   "source": [
    "recipe_name = recipe['name']\n",
    "ingredients = recipe['ingredients']\n",
    "steps = recipe['steps']\n",
    "time = recipe['minutes']"
   ]
  },
  {
   "cell_type": "code",
   "execution_count": 35,
   "metadata": {},
   "outputs": [
    {
     "data": {
      "text/plain": [
       "\"['preheat oven to 425 degrees f', 'press dough into the bottom and sides of a 12 inch pizza pan', 'bake for 5 minutes until set but not browned', 'cut sausage into small pieces', 'whisk eggs and milk in a bowl until frothy', 'spoon sausage over baked crust and sprinkle with cheese', 'pour egg mixture slowly over sausage and cheese', 's& p to taste', 'bake 15-20 minutes or until eggs are set and crust is brown']\""
      ]
     },
     "execution_count": 35,
     "metadata": {},
     "output_type": "execute_result"
    }
   ],
   "source": [
    "steps"
   ]
  },
  {
   "cell_type": "code",
   "execution_count": 17,
   "metadata": {},
   "outputs": [],
   "source": [
    "data = {\n",
    "    'recipe_name' : recipe_name,\n",
    "    'ingredients' : ingredients,\n",
    "    'steps' : steps,\n",
    "    'time' : time\n",
    "}"
   ]
  },
  {
   "cell_type": "code",
   "execution_count": 21,
   "metadata": {},
   "outputs": [],
   "source": [
    "response = requests.post(url=url, data=data)"
   ]
  },
  {
   "cell_type": "code",
   "execution_count": 22,
   "metadata": {},
   "outputs": [
    {
     "data": {
      "text/plain": [
       "200"
      ]
     },
     "execution_count": 22,
     "metadata": {},
     "output_type": "execute_result"
    }
   ],
   "source": [
    "response.status_code"
   ]
  },
  {
   "cell_type": "code",
   "execution_count": 23,
   "metadata": {},
   "outputs": [
    {
     "data": {
      "text/plain": [
       "{'response': '<step 1>\\n1. What type of dough is used as the base for this pizza?\\n2. How thick should the dough be rolled out?\\n3. What is the purpose of preheating the oven to 425 degrees Fahrenheit?\\n</step 1>\\n<step 2>\\n1. What type of pizza sauce is used in this recipe?\\n2. How much pizza sauce is used per pizza?\\n3. What is the purpose of spreading the pizza sauce evenly over the crust?\\n</step 2>\\n<step 3>\\n1. What type of cheese is used as the main topping for this pizza?\\n2. How much cheese is used per pizza?\\n3. What is the purpose of sprinkling the cheese evenly over the pizza sauce?\\n</step 3>\\n<step 4>\\n1. What other toppings can be added to this pizza?\\n2. How much of each topping should be added?\\n3. What is the purpose of adding additional toppings?\\n</step 4>\\n<step 5>\\n1. What is the purpose of baking the pizza in the preheated oven?\\n2. How long should the pizza be baked at 425 degrees Fahrenheit?\\n3. What is the purpose of rotating the pizza halfway through the baking process?\\n</step 5>\\n<step 6>\\n1. What is the purpose of letting the pizza cool for a few minutes before slicing and serving?\\n2. How long should the pizza cool for?',\n",
       " 'questions': [['1. What type of dough is used as the base for this pizza?',\n",
       "   '2. How thick should the dough be rolled out?',\n",
       "   '3. What is the purpose of preheating the oven to 425 degrees Fahrenheit?'],\n",
       "  ['1. What type of pizza sauce is used in this recipe?',\n",
       "   '2. How much pizza sauce is used per pizza?',\n",
       "   '3. What is the purpose of spreading the pizza sauce evenly over the crust?'],\n",
       "  ['1. What type of cheese is used as the main topping for this pizza?',\n",
       "   '2. How much cheese is used per pizza?',\n",
       "   '3. What is the purpose of sprinkling the cheese evenly over the pizza sauce?'],\n",
       "  ['1. What other toppings can be added to this pizza?',\n",
       "   '2. How much of each topping should be added?',\n",
       "   '3. What is the purpose of adding additional toppings?'],\n",
       "  ['1. What is the purpose of baking the pizza in the preheated oven?',\n",
       "   '2. How long should the pizza be baked at 425 degrees Fahrenheit?',\n",
       "   '3. What is the purpose of rotating the pizza halfway through the baking process?']]}"
      ]
     },
     "execution_count": 23,
     "metadata": {},
     "output_type": "execute_result"
    }
   ],
   "source": [
    "response.json()"
   ]
  },
  {
   "cell_type": "code",
   "execution_count": 36,
   "metadata": {},
   "outputs": [],
   "source": [
    "desc = requests.post(url=url_desc, data=data)"
   ]
  },
  {
   "cell_type": "code",
   "execution_count": 28,
   "metadata": {},
   "outputs": [
    {
     "data": {
      "text/plain": [
       "200"
      ]
     },
     "execution_count": 28,
     "metadata": {},
     "output_type": "execute_result"
    }
   ],
   "source": [
    "desc.status_code"
   ]
  },
  {
   "cell_type": "code",
   "execution_count": 37,
   "metadata": {},
   "outputs": [
    {
     "data": {
      "text/plain": [
       "{'description': 'Indulge in our one-of-a-kind Breakfast Pizza, a delightful fusion of flavors and textures. This unique morning treat features a crispy prepared pizza crust, generously topped with a savory combination of eggs, sausage patties, and mushrooms. A blanket of melted cheese provides a luscious, stretchy layer, while a sprinkling of fragrant basil adds a touch of freshness. Each slice offers a symphony of hearty flavors and textures, sure to awaken your taste buds and kick-start your day with a burst of energy.'}"
      ]
     },
     "execution_count": 37,
     "metadata": {},
     "output_type": "execute_result"
    }
   ],
   "source": [
    "desc.json()"
   ]
  }
 ],
 "metadata": {
  "kernelspec": {
   "display_name": "env",
   "language": "python",
   "name": "python3"
  },
  "language_info": {
   "codemirror_mode": {
    "name": "ipython",
    "version": 3
   },
   "file_extension": ".py",
   "mimetype": "text/x-python",
   "name": "python",
   "nbconvert_exporter": "python",
   "pygments_lexer": "ipython3",
   "version": "3.10.6"
  }
 },
 "nbformat": 4,
 "nbformat_minor": 2
}
